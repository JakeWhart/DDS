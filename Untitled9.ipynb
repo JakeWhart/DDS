{
  "nbformat": 4,
  "nbformat_minor": 0,
  "metadata": {
    "colab": {
      "provenance": [],
      "authorship_tag": "ABX9TyPdbHNZ3NHxuzcltmw/dkVH",
      "include_colab_link": true
    },
    "kernelspec": {
      "name": "python3",
      "display_name": "Python 3"
    },
    "language_info": {
      "name": "python"
    }
  },
  "cells": [
    {
      "cell_type": "markdown",
      "metadata": {
        "id": "view-in-github",
        "colab_type": "text"
      },
      "source": [
        "<a href=\"https://colab.research.google.com/github/JakeWhart/DDS/blob/main/Untitled9.ipynb\" target=\"_parent\"><img src=\"https://colab.research.google.com/assets/colab-badge.svg\" alt=\"Open In Colab\"/></a>"
      ]
    },
    {
      "cell_type": "code",
      "execution_count": 5,
      "metadata": {
        "colab": {
          "base_uri": "https://localhost:8080/"
        },
        "id": "dFlG88PcAOEO",
        "outputId": "03c5b8a0-5b0f-4ffd-c412-842b1fec5ed2"
      },
      "outputs": [
        {
          "output_type": "stream",
          "name": "stdout",
          "text": [
            "Overwriting lab4_hanoi.cpp\n"
          ]
        }
      ],
      "source": [
        "%%writefile lab4_hanoi.cpp\n",
        "#include <iostream>\n",
        "using namespace std;\n",
        "\n",
        "void hanoi(int n, char source, char destination, char auxiliary){\n",
        "  if (n == 1){\n",
        "    cout << \"Move disk 1 from \" << source << \" to \" << destination << endl;\n",
        "    return;\n",
        "  }\n",
        "  hanoi(n - 1, source, auxiliary, destination);\n",
        "  cout << \"Move disk \" << n << \" from \" << source << \" to \" << destination << endl;\n",
        "  hanoi(n - 1, auxiliary, destination, source);\n",
        "  }\n",
        "int main(){\n",
        "  int n = 3;\n",
        "  cout << \" Tower of Hanoi (C++) - Steps for \" << n << \" disks: \" << endl << endl;\n",
        "  hanoi(n,'A', 'C', 'B');\n",
        "  return 0;\n",
        "}"
      ]
    },
    {
      "cell_type": "code",
      "source": [
        "!g++ lab4_hanoi.cpp -o lab4_cpp && ./lab4_cpp"
      ],
      "metadata": {
        "colab": {
          "base_uri": "https://localhost:8080/"
        },
        "id": "lzjjK5svBh8j",
        "outputId": "bf10f6c3-a9af-410a-fad7-f7dd6a1586fc"
      },
      "execution_count": 6,
      "outputs": [
        {
          "output_type": "stream",
          "name": "stdout",
          "text": [
            " Tower of Hanoi (C++) - Steps for 3 disks: \n",
            "\n",
            "Move disk 1 from A to C\n",
            "Move disk 2 from A to B\n",
            "Move disk 1 from C to B\n",
            "Move disk 3 from A to C\n",
            "Move disk 1 from B to A\n",
            "Move disk 2 from B to C\n",
            "Move disk 1 from A to C\n"
          ]
        }
      ]
    },
    {
      "cell_type": "code",
      "source": [
        "%%writefile lab5_queue.cpp\n",
        "#include <iostream>\n",
        "#define SIZE 5\n",
        "using namespace std;\n",
        "\n",
        "class Queue{\n",
        "  int arr[SIZE], front, rear;\n",
        "public:\n",
        "  Queue() {\n",
        "    front = rear = -1;\n",
        "  }\n",
        "\n",
        "  void enqueue(int val) {\n",
        "    if ((rear + 1) % SIZE == front) {\n",
        "      cout << \"Queue Overflow\\n\";\n",
        "      return ;\n",
        "    }\n",
        "    if (front == -1) front = 0;\n",
        "    rear = (rear + 1) % SIZE;\n",
        "    arr[rear] = val;\n",
        "    }\n",
        "\n",
        "    void dequeue() {\n",
        "      if (front == -1) {\n",
        "        cout << \"Queue Underflow\\n\";\n",
        "        return;\n",
        "      }\n",
        "      cout << \"Dqueued: \" << arr[front] << endl;\n",
        "      if (front == rear)\n",
        "        front = rear = -1;\n",
        "      else\n",
        "      front = (front + 1) % SIZE;\n",
        "    }\n",
        "\n",
        "    void traverse() {\n",
        "      if (front == -1) {\n",
        "        cout << \"Queue is empty\\n\";\n",
        "        return;\n",
        "      }\n",
        "      cout << \"Queue: \";\n",
        "      int i = front;\n",
        "      while (true){\n",
        "        cout << arr[i] << \" \";\n",
        "        if (i == rear) break;\n",
        "        i = (i + 1) % SIZE;\n",
        "      }\n",
        "      cout << endl;\n",
        "    }\n",
        "\n",
        "    void search(int key) {\n",
        "      if (front == -1) {\n",
        "        cout << \"Queue is empty\\n\";\n",
        "        return;\n",
        "      }\n",
        "      int i = front;\n",
        "      while (true) {\n",
        "        if (arr[i] == key) {\n",
        "          cout << \"Element \" << key << \"found at index \" << i << endl;\n",
        "          return;\n",
        "        }\n",
        "        if (i == rear) break;\n",
        "        i = (i + 1) % SIZE;\n",
        "      }\n",
        "      cout << \"Element not found\\n\";\n",
        "    }\n",
        "};\n",
        "int main(){\n",
        "  Queue q;\n",
        "  q.enqueue(10);\n",
        "  q.enqueue(20);\n",
        "  q.enqueue(30);\n",
        "  q.traverse();\n",
        "  q.dequeue();\n",
        "  q.traverse();\n",
        "  q.search(20);\n",
        "  q.search(99);\n",
        "  return 0;\n",
        "}"
      ],
      "metadata": {
        "colab": {
          "base_uri": "https://localhost:8080/"
        },
        "id": "JjoAMPvHGxcS",
        "outputId": "1fe52c7d-7c4e-4c3b-8acb-8ba90658dbb6"
      },
      "execution_count": 22,
      "outputs": [
        {
          "output_type": "stream",
          "name": "stdout",
          "text": [
            "Overwriting lab5_queue.cpp\n"
          ]
        }
      ]
    },
    {
      "cell_type": "code",
      "source": [
        "!g++ lab5_queue.cpp -o hss"
      ],
      "metadata": {
        "id": "ih1ih_1tIBDi"
      },
      "execution_count": 23,
      "outputs": []
    },
    {
      "cell_type": "code",
      "source": [
        "!./hss"
      ],
      "metadata": {
        "colab": {
          "base_uri": "https://localhost:8080/"
        },
        "id": "f4JsgfzeIbWS",
        "outputId": "95153c3f-ccce-4d2b-f103-5f42682fb191"
      },
      "execution_count": 24,
      "outputs": [
        {
          "output_type": "stream",
          "name": "stdout",
          "text": [
            "Queue: 10 20 30 \n",
            "Dqueued: 10\n",
            "Queue: 20 30 \n",
            "Element 20found at index 1\n",
            "Element not found\n"
          ]
        }
      ]
    }
  ]
}